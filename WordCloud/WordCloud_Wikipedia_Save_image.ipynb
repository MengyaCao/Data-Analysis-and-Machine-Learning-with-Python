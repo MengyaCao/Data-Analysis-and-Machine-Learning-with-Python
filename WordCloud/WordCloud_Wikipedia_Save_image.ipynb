{
 "cells": [
  {
   "cell_type": "code",
   "execution_count": 1,
   "id": "de38f185",
   "metadata": {},
   "outputs": [],
   "source": [
    "#!pip install wordcloud wikipedia"
   ]
  },
  {
   "cell_type": "code",
   "execution_count": 2,
   "id": "631db0b6",
   "metadata": {},
   "outputs": [],
   "source": [
    "import wikipedia\n",
    "from wordcloud import WordCloud, STOPWORDS \n",
    "# \"STOPWORDS\" basically common words which we can assume that they are not the relevant words and we can safely remove them \n",
    "# from our list of relevant words, such as I, am, you....\n",
    "import os\n",
    "from PIL import Image\n",
    "import numpy as np\n",
    "import matplotlib.pyplot as plt\n",
    "\n",
    "def get_wiki(query): # extract the content of ant Wikipedia page\n",
    "    title = wikipedia.search(query)[0]  \n",
    "    # search for all those topics which are matching to my query and then extract and then take the first one    \n",
    "    page = wikipedia.page(title)\n",
    "    return page.content\n",
    "\n",
    "def create_wordcloud(text):\n",
    "    \n",
    "    mask = np.array(Image.open('C:\\\\Users\\\\mengyacao\\\\Desktop\\\\Python\\\\cloud.jpg'))\n",
    "    \n",
    "    stopwords = set(STOPWORDS)\n",
    "    \n",
    "    wc = WordCloud(background_color=\"black\",\n",
    "                    mask=mask,\n",
    "                    max_words=20002,\n",
    "                    max_font_size=40,\n",
    "                    stopwords=stopwords)\n",
    "    \n",
    "    wc.generate(text)\n",
    "    wc.to_file(\"wc-wiki.png\")\n",
    "\n",
    "\n",
    "create_wordcloud(get_wiki(\"python programming language\"))\n",
    "\n"
   ]
  },
  {
   "cell_type": "code",
   "execution_count": null,
   "id": "ad1edd33",
   "metadata": {},
   "outputs": [],
   "source": []
  },
  {
   "cell_type": "code",
   "execution_count": null,
   "id": "8d650816",
   "metadata": {},
   "outputs": [],
   "source": []
  }
 ],
 "metadata": {
  "kernelspec": {
   "display_name": "Python 3",
   "language": "python",
   "name": "python3"
  },
  "language_info": {
   "codemirror_mode": {
    "name": "ipython",
    "version": 3
   },
   "file_extension": ".py",
   "mimetype": "text/x-python",
   "name": "python",
   "nbconvert_exporter": "python",
   "pygments_lexer": "ipython3",
   "version": "3.8.8"
  }
 },
 "nbformat": 4,
 "nbformat_minor": 5
}
